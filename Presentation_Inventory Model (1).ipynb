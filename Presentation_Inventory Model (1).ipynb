{
 "cells": [
  {
   "cell_type": "markdown",
   "metadata": {
    "slideshow": {
     "slide_type": "slide"
    }
   },
   "source": [
    "\n",
    "##  Inventory models and market-making:Avellaneda and Stoikov (2008)\n",
    "\n",
    "$$\n",
    "\\newcommand{\\bea}{\\begin{eqnarray}}\n",
    "\\newcommand{\\eea}{\\end{eqnarray}}\n",
    "\\newcommand{\\supp}{\\mathrm{supp}}\n",
    "\\newcommand{\\F}{\\mathcal{F} }\n",
    "\\newcommand{\\cF}{\\mathcal{F} }\n",
    "\\newcommand{\\E}{\\mathbb{E} }\n",
    "\\newcommand{\\Eof}[1]{\\mathbb{E}\\left[ #1 \\right]}\n",
    "\\def\\Cov{{ \\mbox{Cov} }}\n",
    "\\def\\Var{{ \\mbox{Var} }}\n",
    "\\newcommand{\\1}{\\mathbf{1} }\n",
    "\\newcommand{\\p}{\\partial}\n",
    "\\newcommand{\\PP}{\\mathbb{P} }\n",
    "\\newcommand{\\Pof}[1]{\\mathbb{P}\\left[ #1 \\right]}\n",
    "\\newcommand{\\QQ}{\\mathbb{Q} }\n",
    "\\newcommand{\\R}{\\mathbb{R} }\n",
    "\\newcommand{\\DD}{\\mathbb{D} }\n",
    "\\newcommand{\\HH}{\\mathbb{H} }\n",
    "\\newcommand{\\spn}{\\mathrm{span} }\n",
    "\\newcommand{\\cov}{\\mathrm{cov} }\n",
    "\\newcommand{\\HS}{\\mathcal{L}_{\\mathrm{HS}} }\n",
    "\\newcommand{\\Hess}{\\mathrm{Hess} }\n",
    "\\newcommand{\\trace}{\\mathrm{trace} }\n",
    "\\newcommand{\\cL}{\\mathcal{L} }\n",
    "\\newcommand{\\cG}{\\mathcal{G} }\n",
    "\\newcommand{\\Xv}{X^{(v)}}\n",
    "\\newcommand{\\s}{\\mathcal{S} }\n",
    "\\newcommand{\\cE}{\\mathcal{E} }\n",
    "\\newcommand{\\ff}{\\mathcal{F} }\n",
    "\\newcommand{\\hh}{\\mathcal{H} }\n",
    "\\newcommand{\\bb}{\\mathcal{B} }\n",
    "\\newcommand{\\dd}{\\mathcal{D} }\n",
    "\\newcommand{\\g}{\\mathcal{G} }\n",
    "\\newcommand{\\half}{\\frac{1}{2} }\n",
    "\\newcommand{\\T}{\\mathcal{T} }\n",
    "\\newcommand{\\bit}{\\begin{itemize}}\n",
    "\\newcommand{\\eit}{\\end{itemize}}\n",
    "\\newcommand{\\beq}{\\begin{equation}}\n",
    "\\newcommand{\\eeq}{\\end{equation}}\n",
    "\\newcommand{\\beas}{\\begin{eqnarray*}}\n",
    "\\newcommand{\\eeas}{\\end{eqnarray*}}\n",
    "\\newcommand{\\tr}{\\mbox{tr}}\n",
    "\\newcommand{\\ee}[1]{{\\mathbb{E}\\left[{#1}\\right]}}\n",
    "\\newcommand{\\eef}[1]{{\\mathbb{E}\\left[\\left.{#1}\\right|\\cF_t\\right]}}\n",
    "\\newcommand{\\eefm}[2]{{\\mathbb{E}^{#2}\\left[\\left.{#1}\\right|\\cF_t\\right]}}\n",
    "\\newcommand{\\angl}[1]{{\\langle{#1}\\rangle}}\n",
    "$$"
   ]
  },
  {
   "cell_type": "markdown",
   "metadata": {
    "slideshow": {
     "slide_type": "slide"
    }
   },
   "source": [
    "### Avellaneda and Stoikov (2008)\n",
    "#### Model setup\n",
    "\n",
    "- Stock price $S_t$ follows arithmetic Brownian motion:\n",
    "\n",
    "$$\n",
    "    dS_t=\\sigma\\,dW_t\n",
    "$$\n",
    "\n",
    "- $N_t^A$: cumulative market buy orders up to time $t$\n",
    "\n",
    "- $N_t^B$: cumulative market sell orders up to time $t$\n",
    "\n",
    "- The MB arrival rate $\\lambda_A = \\lambda_A(\\delta^A)$ is decreasing in $\\delta^A := A - S$, the distance to midprice.\n",
    "\n",
    "- The MS arrival rate $\\lambda_B = \\lambda_B(\\delta^B)$ is decreasing in $\\delta^B := S - B$, the distance to midprice.\n",
    "\n",
    "- MM's wealth in __cash__ of jumps every time there is a market order:\n",
    "\n",
    "    $$\n",
    "    dx_t = A\\,dN^A_t - B\\,dN^B_t = (S_t + \\delta^A) dN^A_t - (S_t - \\delta^B) dN^B_t \n",
    "    $$\n",
    "\n",
    "- The evolution of token inventory is given by:\n",
    "    \n",
    "    $$\n",
    "    dq_t = dN^B_t - dN^A_t\n",
    "    $$\n",
    "    \n",
    "#### Note\n",
    "- Inventory thus depends only on arrivals of market orders and does not have any additional random component.  This considerably simplifies the analysis relative to Ho and Stoll."
   ]
  },
  {
   "cell_type": "markdown",
   "metadata": {
    "slideshow": {
     "slide_type": "slide"
    }
   },
   "source": [
    "### Objective and value function \n",
    "\n",
    "- The objective of MMs is to maximize the expected exponential utility \n",
    "\n",
    "    $$\n",
    "    \\max_{\\delta^B,\\delta^A}\\E\\left[-e^{-\\alpha\\,(x_T+q_T\\,S_T)}\\right]\n",
    "    $$\n",
    "    \n",
    "    over certain admissible controls. \n",
    "    \n",
    "- The optimal controls $\\delta^B$ and $\\delta^A$ are in general time and state dependent. In fact, it is determined in terms of the value function. "
   ]
  },
  {
   "cell_type": "markdown",
   "metadata": {
    "slideshow": {
     "slide_type": "subslide"
    }
   },
   "source": [
    "* The value function of the stochastic control problem is therefore defined by\n",
    "\n",
    "    $$\n",
    "    J(t,x,S,q) = \\max_{(\\delta^B,\\delta^A) \\in \\cG[t,T]} \\E\\left[\\left. -e^{-\\alpha\\,(x_T+q_T\\,S_T)} \\right|x_t = x, S_t = S, q_t = q \\right]\n",
    "    $$\n",
    "    \n",
    "    where $\\cG[t,T]$ denotes the admissible controls in the time interval $[t,T]$."
   ]
  },
  {
   "cell_type": "markdown",
   "metadata": {
    "slideshow": {
     "slide_type": "slide"
    }
   },
   "source": [
    "### It&ocirc;'s formula for processes with jumps\n",
    "\n",
    "Let $X_t$ and $Y_t$ be processes with jump. Denote by $X^c_t$ and $Y^c_t$ the continuous part of $X$ and $Y$ respectively. \n",
    "\n",
    "If $J$ is a smooth function, then for $t < s$, we have the following It&ocirc;'s formula \n",
    "\n",
    "\\begin{eqnarray*}\n",
    "&& J(s,x_s,S_s,q_s) - J(t,x_t,S_t,q_t) \\\\\n",
    "&=& \\int_t^s J_t d\\tau + \\int_t^s J_x dx_\\tau^c + \\int_t^s J_S dS_\\tau^c + \\int_t^s J_q dq_\\tau^c \\\\\n",
    "&& + \\frac12 \\int_t^s J_{xx} d[x^c]_\\tau + \\frac12 \\int_t^s J_{SS} d[S^c]_\\tau + \\frac12 \\int_t^s J_{qq} d[q^c]_\\tau + \\mbox{covariation terms} \\\\\n",
    "&& + \\sum_{t < \\tau \\leq s} J(\\tau,x_\\tau,S_\\tau,q_\\tau) - J(\\tau, x_{\\tau-},S_{\\tau-},q_{\\tau-})\n",
    "\\end{eqnarray*}"
   ]
  },
  {
   "cell_type": "markdown",
   "metadata": {
    "slideshow": {
     "slide_type": "slide"
    }
   },
   "source": [
    "### The HJB equation \n",
    "\n",
    "The value function $J(\\cdot)$ satisfies the HJB equation\n",
    "\n",
    "<a name=\"eq:HJBAS\"></a>(9) \n",
    "$$\n",
    "\\begin{eqnarray*}\n",
    "&&\\p_t J+\\frac{\\sigma^2}{2}\\,\\p_S^2 J \\\\\n",
    "&& + \\max_{\\delta^B}\\,\\lambda_B(\\delta^B)\\,\\left[J(t,x - S + \\delta^B, S, q+1)-J(t,x,S,q)\\right] \\\\\n",
    "&& + \\max_{\\delta^A}\\,\\lambda_A(\\delta^A)\\,\\left[J(t,x + S + \\delta^A, S, q-1)-J(t,x,S,q)\\right] \\\\\n",
    "&& = 0\n",
    "\\end{eqnarray*}\n",
    "$$\n",
    "\n",
    "with terminal condition\n",
    "\n",
    "$$\n",
    "J(T,x,S,q) = -e^{-\\alpha(x + q S)}.\n",
    "$$"
   ]
  },
  {
   "cell_type": "markdown",
   "metadata": {
    "slideshow": {
     "slide_type": "subslide"
    }
   },
   "source": [
    "Because utility is exponential, we can simplify [(9)](#eq:HJBAS) with the ansatz\n",
    "\n",
    "$$\n",
    "J(t,x,S,q) = -e^{-\\alpha\\,x}\\,e^{-\\alpha\\,\\theta(t,S,q)}\n",
    "$$\n",
    "\n",
    "- In other words, the initial wealth does not really play a role in the solution to the utility maximization problem. This turns out to be one of the features that distinguishes exponential utility from the others in this setting. \n",
    "- Note that $B = S - \\delta_B$ and $A = S + \\delta_A$.\n",
    "\n",
    "Note that with the ansatz we have\n",
    "\n",
    "\\begin{eqnarray*}\n",
    "&& \\p_t J = -\\alpha \\, \\theta_t \\, J, \\\\\n",
    "&& \\p^2_S J = \\left\\{ - \\alpha \\theta_{SS} + \\alpha^2 \\theta_S^2 \\right\\} \\, J, \\\\\n",
    "&& J(t, x + S + \\delta^A, S, q - 1) = J(t, x, S, q) e^{-\\alpha\\left\\{S + \\delta^A + \\theta(t, s, q-1) - \\theta(t, s, q)\\right\\}}, \\\\\n",
    "&& J(t, x + S - \\delta^B, S, q + 1) = J(t, x, S, q) e^{-\\alpha\\left\\{-S + \\delta^B + \\theta(t, s, q+1) - \\theta(t, s, q)\\right\\}}.\n",
    "\\end{eqnarray*}\n",
    "\n",
    "Substitute the above into [(9)](#eq:HJBAS), the HJB equation [(9)](#eq:HJBAS) reduces to\n",
    "\n",
    "<a name=\"eq:HJBAS-reduced\"></a>(9') \n",
    "\n",
    "\\begin{eqnarray*}\n",
    "&&\\p_t \\theta+\\frac{\\sigma^2}{2}\\,\\p_S^2 \\theta-\\alpha\\,\\frac{\\sigma^2}{2}\\,(\\p_{S}\\theta)^2 \n",
    "\\\\&&+ \\frac 1\\alpha\\,\\min_{\\delta^B}\\,\\lambda_B(\\delta^B)\\,\\left[1-e^{-\\alpha\\,\\left\\{-S + \\delta^B + \\theta(t, S, q+1) - \\theta(t,S,q) \\right\\}}\\right] \n",
    "\\\\&&+ \\frac 1\\alpha\\,\\min_{\\delta^A}\\,\\lambda_A(\\delta^A)\\,\\left[1-e^{-\\alpha\\,\\left\\{S + \\delta^A + \\theta(t, S, q-1) - \\theta(t,S,q) \\right\\}}\\right]\n",
    "= 0\n",
    "\\end{eqnarray*}\n",
    "\n",
    "with terminal condition\n",
    "$\n",
    "\\theta(T,S,q) = qS\n",
    "$."
   ]
  },
  {
   "cell_type": "markdown",
   "metadata": {},
   "source": [
    "The first order condition for the optimal bid $B = S - \\delta^B$ is then\n",
    "\n",
    "$$\n",
    "\\partial_{\\delta^B} \\left\\{\\lambda_B(\\delta^B)\\,\\left[1-e^{-\\alpha\\,\\left\\{-S + \\delta^B + \\theta(t, S, q+1) + \\theta(t,S,q) \\right\\}}\\right]\\right\\} = 0\n",
    "$$\n",
    "\n",
    "which gives the implicit relation\n",
    "\n",
    "$$\n",
    "\\lambda_B'(\\delta^B)\\,\\left[1-e^{-\\alpha\\,\\left\\{-S + \\delta^B + \\theta(t, S, q+1) - \\theta(t,S,q) \\right\\}}\\right] + \\alpha\\,\\lambda_B(\\delta^B)\\,e^{-\\alpha\\,\\left\\{-S + \\delta^B + \\theta(t, S, q+1) - \\theta(t,S,q) \\right\\}}=0\n",
    "$$\n",
    "\n",
    "which may be further simplified to the optimal bid price:\n",
    "\n",
    "<a name=\"eq:optimalBid\"></a>(11) \n",
    "$$\n",
    "B = S - \\delta^B = \\theta(t, S, q+1) - \\theta(t, S, q) - \\frac{1}{\\alpha} \\, \\log\\left(1 - \\alpha\\, \\frac{\\lambda_B(\\delta^B)}{\\lambda_B'(\\delta^B)}\\right).\n",
    "$$\n",
    "\n",
    "Similarly, the optimal ask price $A$ is given by\n",
    "\n",
    "<a name=\"eq:optimalAsk\"></a>(12) \n",
    "$$\n",
    "A = S + \\delta^A = \\theta(t, S, q) - \\theta(t, S, q-1) + \\frac{1}{\\alpha}\\,\\log\\left(1-\\alpha\\,\\frac{{\\lambda_A}(\\delta^A)}{\\lambda_A'(\\delta_A)}\\right).\n",
    "$$"
   ]
  },
  {
   "cell_type": "markdown",
   "metadata": {},
   "source": [
    "### Reservation prices\n",
    "\n",
    "The quantities $r_B$ and $r_B$ defined in the following are referred to as the *reservation prices*.\n",
    "- reservation buy price $r_B := \\theta(t, S, q+1) - \\theta(t, S, q)$.\n",
    "- reservation sell price $r_A := \\theta(t, S, q) - \\theta(t, S, q-1)$.\n",
    "\n",
    "One can verify that the reservation prices $r_B$ and $r_A$ satisfy the relationships\n",
    "\\begin{eqnarray*}\n",
    "&& J(t, x - r_B, S, q+1) = J(t, x, S, q), \\\\\n",
    "&& J(t, x + r_A, S, q-1) = J(t, x, S, q).\n",
    "\\end{eqnarray*}\n",
    "\n",
    "**In other words, the reservation price is the price that the market maker is willing to trade indifferently in utility (value function) at the instant $t$ while the current value of the token is $S$ and his inventory is $q$.**"
   ]
  },
  {
   "cell_type": "markdown",
   "metadata": {},
   "source": [
    "### Exponential arrive rates \n",
    "\n",
    "Assuming exponential arrival rates, i.e., \n",
    "\n",
    "\\begin{eqnarray*}\n",
    "&& \\lambda_A(\\delta^A) = K_A e^{-\\mu_A \\delta^A}, \\\\\n",
    "&& \\lambda_B(\\delta^B) = K_B e^{-\\mu_B \\delta^B}.\n",
    "\\end{eqnarray*}\n",
    "\n",
    "#### Note\n",
    "- This is a questionable approximation because arrival rates probably depend on inventory.\n",
    "    - Adverse selection again!\n",
    "- However, making this approximation simplifies the analysis a lot."
   ]
  },
  {
   "cell_type": "markdown",
   "metadata": {},
   "source": [
    "Notice that in this case since \n",
    "\n",
    "$$\n",
    "\\frac{\\lambda_A(\\delta^A)}{\\lambda_A'(\\delta^A)} = -\\frac1{\\mu_A}, \\quad\n",
    "\\frac{\\lambda_B(\\delta^B)}{\\lambda_B'(\\delta^B)} = -\\frac1{\\mu_B}\n",
    "$$\n",
    "\n",
    "the optimal bid $B$ and the optimal ask $A$ are given explicitly in terms of the function $\\theta$ as\n",
    "\n",
    "\\begin{eqnarray*}\n",
    "&& B = S - \\delta^B = \\theta(t, S, q+1) - \\theta(t, S, q) - \\frac{1}{\\alpha} \\, \\log\\left(1 + \\frac\\alpha{\\mu_B} \\right), \\\\\n",
    "&& A = S + \\delta^A = \\theta(t, S, q) - \\theta(t, S, q-1) + \\frac{1}{\\alpha}\\,\\log\\left(1 + \\frac\\alpha{\\mu_A} \\right).\n",
    "\\end{eqnarray*}\n",
    "\n",
    "In particular, the optimal controls $\\delta^B$ and $\\delta^A$ are given by \n",
    "\n",
    "\\begin{eqnarray*}\n",
    "&& \\delta^B = S - \\theta(t, S, q+1) + \\theta(t, S, q) + \\frac{1}{\\alpha} \\, \\log\\left(1 + \\frac\\alpha{\\mu_B} \\right), \\\\\n",
    "&& \\delta^A = -S + \\theta(t, S, q) - \\theta(t, S, q-1) + \\frac{1}{\\alpha}\\,\\log\\left(1 + \\frac\\alpha{\\mu_A} \\right).\n",
    "\\end{eqnarray*}"
   ]
  },
  {
   "cell_type": "markdown",
   "metadata": {},
   "source": [
    "### Further reducing HJB equation under exponential arrival rates \n",
    "\n",
    "By substituting the optimal controls into the HJB equation [(9')](#eq:HJBAS-reduced) we obtain the following nonlinear PDE\n",
    "\n",
    "\\begin{eqnarray*}\n",
    "&&\\p_t \\theta+\\frac{\\sigma^2}{2}\\,\\p_S^2 \\theta-\\alpha\\,\\frac{\\sigma^2}{2}\\,(\\p_{S}\\theta)^2 \\\\\n",
    "&& + \\frac{K_B}{\\mu_B}\\left(1 + \\frac{\\alpha}{\\mu_B}\\right)^{-\\left(1 + \\frac{\\mu_B}{\\alpha}\\right)} \n",
    "e^{-\\mu_B(S - \\theta(t, S, q+1) + \\theta(t, S, q))} \\\\\n",
    "&& + \\frac{K_A}{\\mu_A}\\left(1 + \\frac{\\alpha}{\\mu_A}\\right)^{-\\left(1 + \\frac{\\mu_A}{\\alpha}\\right)} \n",
    "e^{-\\mu_A(-S + \\theta(t, S, q) - \\theta(t, S, q-1))}\n",
    "= 0\n",
    "\\end{eqnarray*}\n"
   ]
  },
  {
   "cell_type": "markdown",
   "metadata": {},
   "source": [
    "### Symmetric exponential arrival rate\n",
    "\n",
    "Further assume that $\\mu := \\mu_A = \\mu_B$ and $K := K_A = K_B$, i.e., the arrivals of MB and MS orders are symmetric. The HJB equation then reduces to \n",
    "\n",
    "\\begin{eqnarray*}\n",
    "&& \\theta_t + \\frac{\\sigma^2}{2} \\, \\theta_{SS} - \\alpha \\frac{\\sigma^2}{2} \\, \\theta_S^2 + \\frac{\\eta}{\\mu} \\left\\{\n",
    "e^{-\\mu(S - \\theta(t, S, q+1) + \\theta(t, S, q))} + e^{-\\mu(-S + \\theta(t, S, q) - \\theta(t, S, q-1))} \\right\\} = 0,\n",
    "\\end{eqnarray*}\n",
    "\n",
    "where we denoted by $\\eta = K \\left(1 + \\frac{\\alpha}{\\mu}\\right)^{-\\left(1 + \\frac{\\mu}{\\alpha}\\right)}$ for simplicity. "
   ]
  },
  {
   "cell_type": "markdown",
   "metadata": {},
   "source": [
    "Now use the ansatz $\\theta = qS + \\frac1\\mu \\log v(t, q)$. Since\n",
    "\n",
    "\\begin{eqnarray*}\n",
    "&& \\theta_t = \\frac1\\mu\\frac{\\dot v}v, \\quad \\theta_S = q, \\quad \\theta_{SS} = 0, \n",
    "\\end{eqnarray*}\n",
    "\n",
    "we end up  \n",
    "\n",
    "\\begin{eqnarray*}\n",
    "&&\\frac1\\mu \\frac{\\dot v}{v} - \\alpha\\,\\frac{\\sigma^2}{2}\\,q^2 \n",
    "+ \\frac{\\eta}{\\mu} \\left\\{\n",
    "\\frac{v(t, q+1)}{v(t, q)} + \\frac{v(t, q-1)}{v(t,q)} \\right\\} = 0.\n",
    "\\end{eqnarray*}\n",
    "\n",
    "Finally, we obtain a system of linear ODEs\n",
    "\n",
    "\\begin{eqnarray*}\n",
    "&& \\dot v(t, q) = \\alpha\\,\\frac{\\sigma^2}{2} \\mu \\, q^2 v(t, q) - \\eta \\left\\{\n",
    "v(t, q+1) + v(t, q-1) \\right\\}.\n",
    "\\end{eqnarray*}\n",
    "\n",
    "with terminal condition $v(T, q) = 1$!\n",
    "\n",
    "By restricting $-Q \\leq q \\leq Q$, for some $Q > 0$ and further imposing the boundary conditions \n",
    "\n",
    "\\begin{eqnarray*}\n",
    "&& \\dot v(t, Q) = \\alpha\\,\\frac{\\sigma^2}{2} \\mu \\, q^2 v(t, Q) - \\eta\n",
    "v(t, Q - 1), \\\\\n",
    "&& \\dot v(t, -Q) = \\alpha\\,\\frac{\\sigma^2}{2} \\mu \\, q^2 v(t, -Q) - \\eta v(t, -Q+1),\n",
    "\\end{eqnarray*}\n",
    "\n",
    "[Guéant, Lehalle and Fernandez-Tapia]<sup id=\"cite_ref-GFL\" class=\"reference\"><a href=\"#cite_note-GFL\">[5]</a></sup> showed that $J(t, x, S, q) = -e^{-\\alpha(x + qS)} v^{-\\frac\\alpha\\mu}(t, q)$ is the value function of the control problem."
   ]
  },
  {
   "cell_type": "markdown",
   "metadata": {},
   "source": [
    "### Optimal bid, ask, and spread\n",
    "\n",
    "Thus, the optimal bid $B$ is given by \n",
    "\n",
    "\\begin{eqnarray*}\n",
    "B &=& S - \\delta^B = \\theta(t, S, q+1) - \\theta(t, S, q) - \\frac{1}{\\alpha} \\, \\log\\left(1 + \\frac\\alpha{\\mu} \\right) \\\\\n",
    "&=& S - \\frac1\\mu \\log\\frac{v(t, q)}{v(t, q+1)} - \\frac1\\alpha\\log\\left(1 + \\frac\\alpha\\mu \\right). \n",
    "\\end{eqnarray*}\n",
    "\n",
    "Similary, the optimal ask $A$ is given by \n",
    "\n",
    "\\begin{eqnarray*}\n",
    "A &=& S + \\delta^A = S + \\frac1\\mu \\log\\frac{v(t, q)}{v(t, q-1)} + \\frac1\\alpha\\log\\left(1 + \\frac\\alpha\\mu \\right).\n",
    "\\end{eqnarray*}\n",
    "\n",
    "Thus, the bid-ask spread $s$ is given by\n",
    "\n",
    "$$\n",
    "s = A - B = \\frac1\\mu \\log\\frac{v^2(t, q)}{v(t, q+1)v(t, q-1)} + \\frac2\\alpha\\log\\left(1 + \\frac\\alpha\\mu \\right).\n",
    "$$"
   ]
  },
  {
   "cell_type": "markdown",
   "metadata": {},
   "source": [
    "### Large time asymptotics of optimal bid, ask, and spread\n",
    "\n",
    "- The optimal bid and ask prices obtained depends on the terminal horizon $T$.\n",
    "-  Intuitively, the closer the dealer is to time $T$, the less risky his inventory in stock is, since it can be liquidated at the mid price $S_T$.\n",
    "- For a market-making business, (we hope) there should be no such final time.\n",
    "\n",
    "By taking the limit as $T \\to \\infty$ in the optimal bid $B$ and ask $A$, [Guéant, Lehalle and Fernandez-Tapia]<sup id=\"cite_ref-GFL\" class=\"reference\"><a href=\"#cite_note-GFL\">[5]</a></sup> obtained that \n",
    "\n",
    "\\begin{eqnarray*}\n",
    "&& B_\\infty := \\lim_{T \\to \\infty} B = S - \\frac1\\mu \\log\\frac{v_\\infty(q)}{v_\\infty( q+1)} - \\frac1\\alpha\\log\\left(1 + \\frac\\alpha\\mu \\right), \\\\\n",
    "&& \\\\\n",
    "&& A_\\infty := \\lim_{T \\to \\infty} A = S + \\frac1\\mu \\log\\frac{v_\\infty(q)}{v_\\infty( q-1)} + \\frac1\\alpha\\log\\left(1 + \\frac\\alpha\\mu \\right), \\\\\n",
    "\\end{eqnarray*}\n",
    "\n",
    "where $v_\\infty(\\cdot)$ is given by\n",
    "\n",
    "<a name=\"eq:vinfty\"></a>(13)\n",
    "$$\n",
    "v_\\infty = \\mathop{{\\rm argmax}}_{\\|u\\|_2 = 1} \\left\\{ \\sum_{q=-Q}^Q \\frac\\mu2 \\alpha\\sigma^2q^2u(q)^2 + \\eta \\sum_{q=-Q}^{Q-1}\\{u(q + 1) - u(q)\\}^2 + \\eta \\{ u(Q)^2 + u(-Q)^2\\} \\right\\}.\n",
    "$$\n",
    "\n",
    "Hence, the spread as $T \\to \\infty$ reads\n",
    "\n",
    "$$\n",
    "s_\\infty = A_\\infty - B_\\infty = \\frac1\\mu \\log\\frac{v^2_\\infty(q)}{v_\\infty(q+1)v_\\infty(q-1)} + \\frac2\\alpha\\log\\left(1 + \\frac\\alpha\\mu \\right).\n",
    "$$\n"
   ]
  },
  {
   "cell_type": "markdown",
   "metadata": {},
   "source": [
    "### Approximate asymptotic optimal bid and ask\n",
    "\n",
    "Finally, by furhter approximate $v_\\infty(\\cdot)$ by the solution $\\tilde v$ to the following variational problem \n",
    "\n",
    "$$\n",
    "\\tilde v = \\mathop{{\\rm argmax}}_{\\|\\tilde u\\|_2 = 1} \\left\\{ \\int_{-\\infty}^\\infty \\left[\\frac\\mu2 \\alpha\\sigma^2 x^2 \\tilde u^2(x) + \\eta |\\tilde u'(x)|^2 \\right] dx \\right\\},\n",
    "$$\n",
    "\n",
    "[Gu&eacute;ant, Lehalle and Fernandez-Tapia] obtain the following approximation:\n",
    "\n",
    "$$\n",
    "    \\begin{eqnarray*}\n",
    "    \\delta_B &\\approx& \\frac{1}{\\alpha}\\,\\log\\left(1 + \\frac{\\alpha}{\\mu}\\right) + \\left(q + \\frac12 \\right)\\,\\sqrt{\\frac{\\sigma^2\\,\\alpha}{2\\,\\mu\\,\\eta}}, \\\\\n",
    "    && \\\\\n",
    "    \\delta_A &\\approx&  \\frac{1}{\\alpha}\\,\\log\\left(1+\\frac{\\alpha}{\\mu}\\right) - \\left(q - \\frac12\\right)\\,\\sqrt{\\frac{\\sigma^2\\,\\alpha}{2\\,\\mu\\,\\eta}}.\n",
    "    \\end{eqnarray*}\n",
    " $$   \n"
   ]
  },
  {
   "cell_type": "markdown",
   "metadata": {},
   "source": [
    "where $\\eta = K \\left(1 + \\frac{\\alpha}{\\mu}\\right)^{-\\left(1 + \\frac{\\mu}{\\alpha}\\right)}$ for simplicity. "
   ]
  },
  {
   "cell_type": "markdown",
   "metadata": {},
   "source": [
    "To simplify:\n",
    "$$\n",
    "    \\begin{eqnarray*}\n",
    "    \\delta_B &\\approx&  A(\\alpha, \\mu) +q + B(\\alpha, \\mu)\\\\\n",
    "    && \\\\\n",
    "    \\delta_A &\\approx&  A(\\alpha, \\mu) - q + B(\\alpha, \\mu).\n",
    "    \\end{eqnarray*}\n",
    " $$ \n",
    "$A(\\alpha, \\mu)= \\frac{1}{\\alpha}\\,\\log\\left(1 + \\frac{\\alpha}{\\mu}\\right)$    \n",
    "$B(\\alpha, \\mu) = \\frac12 \\,\\sqrt{\\frac{\\sigma^2\\,\\alpha}{2\\,\\mu\\,\\eta}}$    \n",
    "$\\eta = K \\left(1 + \\frac{\\alpha}{\\mu}\\right)^{-\\left(1 + \\frac{\\mu}{\\alpha}\\right)}$ "
   ]
  },
  {
   "cell_type": "markdown",
   "metadata": {},
   "source": [
    "\n",
    "$$\n",
    "    \\begin{eqnarray*}\n",
    "    bid\\_ask\\_spread &\\approx&  A(\\alpha, \\mu) + B(\\alpha, \\mu)\n",
    "    \\end{eqnarray*}\n",
    " $$ "
   ]
  }
 ],
 "metadata": {
  "celltoolbar": "Slideshow",
  "kernelspec": {
   "display_name": "Python 3 (ipykernel)",
   "language": "python",
   "name": "python3"
  },
  "language_info": {
   "codemirror_mode": {
    "name": "ipython",
    "version": 3
   },
   "file_extension": ".py",
   "mimetype": "text/x-python",
   "name": "python",
   "nbconvert_exporter": "python",
   "pygments_lexer": "ipython3",
   "version": "3.9.7"
  },
  "toc": {
   "base_numbering": 1,
   "nav_menu": {},
   "number_sections": false,
   "sideBar": true,
   "skip_h1_title": false,
   "title_cell": "Table of Contents",
   "title_sidebar": "Contents",
   "toc_cell": false,
   "toc_position": {},
   "toc_section_display": true,
   "toc_window_display": false
  }
 },
 "nbformat": 4,
 "nbformat_minor": 4
}
